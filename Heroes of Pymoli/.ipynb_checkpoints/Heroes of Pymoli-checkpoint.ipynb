{
 "cells": [
  {
   "cell_type": "code",
   "execution_count": 359,
   "metadata": {},
   "outputs": [],
   "source": [
    "import pandas as pd\n",
    "csv_file=\"C:\\\\Users\\\\samantha.ettinger\\\\GWU-ARL-DATA-PT-12-2019-U-C\\\\02-Homework\\\\04-Pandas\\\\Instructions\\\\HeroesOfPymoli\\\\Resources\\\\purchase_data.csv\"\n",
    "df=pd.read_csv(csv_file)\n",
    "# df=pd.DataFrame(df)+\n",
    "# print(df)\n"
   ]
  },
  {
   "cell_type": "code",
   "execution_count": 360,
   "metadata": {},
   "outputs": [
    {
     "name": "stdout",
     "output_type": "stream",
     "text": [
      "576\n"
     ]
    },
    {
     "data": {
      "text/html": [
       "<div>\n",
       "<style scoped>\n",
       "    .dataframe tbody tr th:only-of-type {\n",
       "        vertical-align: middle;\n",
       "    }\n",
       "\n",
       "    .dataframe tbody tr th {\n",
       "        vertical-align: top;\n",
       "    }\n",
       "\n",
       "    .dataframe thead th {\n",
       "        text-align: right;\n",
       "    }\n",
       "</style>\n",
       "<table border=\"1\" class=\"dataframe\">\n",
       "  <thead>\n",
       "    <tr style=\"text-align: right;\">\n",
       "      <th></th>\n",
       "      <th>total_players</th>\n",
       "    </tr>\n",
       "  </thead>\n",
       "  <tbody>\n",
       "    <tr>\n",
       "      <td>0</td>\n",
       "      <td>576</td>\n",
       "    </tr>\n",
       "  </tbody>\n",
       "</table>\n",
       "</div>"
      ],
      "text/plain": [
       "   total_players\n",
       "0            576"
      ]
     },
     "execution_count": 360,
     "metadata": {},
     "output_type": "execute_result"
    }
   ],
   "source": [
    "df1=df.loc[:,[\"SN\",\"Age\",\"Gender\"]]\n",
    "df1=df1.drop_duplicates()\n",
    "total_players=df1.count()[0]\n",
    "print(total_players)\n",
    "df_unique_players=pd.DataFrame({\"total_players\":[total_players]})\n",
    "df_unique_players"
   ]
  },
  {
   "cell_type": "code",
   "execution_count": 361,
   "metadata": {},
   "outputs": [],
   "source": [
    "number_of_unique_items=len(df[\"Item ID\"].unique())\n",
    "# print(number_of_unique_items)"
   ]
  },
  {
   "cell_type": "code",
   "execution_count": 362,
   "metadata": {},
   "outputs": [],
   "source": [
    "average_purchase_price=df[\"Price\"].mean()\n"
   ]
  },
  {
   "cell_type": "code",
   "execution_count": 363,
   "metadata": {},
   "outputs": [],
   "source": [
    "import numpy as np\n",
    "aver=np.round(average_purchase_price, decimals=2)\n",
    "average_purch=\"$\"+str(aver)\n"
   ]
  },
  {
   "cell_type": "code",
   "execution_count": 364,
   "metadata": {},
   "outputs": [],
   "source": [
    "total_number_purchases=len(df)\n",
    "# print(total_number_purchases)"
   ]
  },
  {
   "cell_type": "code",
   "execution_count": 365,
   "metadata": {},
   "outputs": [],
   "source": [
    "total_revenue=df[\"Price\"].sum()\n",
    "# print(total_revenue)\n",
    "total_rev=\"$\"+str(total_revenue)\n",
    "# print(total_rev)"
   ]
  },
  {
   "cell_type": "code",
   "execution_count": 366,
   "metadata": {},
   "outputs": [
    {
     "data": {
      "text/html": [
       "<div>\n",
       "<style scoped>\n",
       "    .dataframe tbody tr th:only-of-type {\n",
       "        vertical-align: middle;\n",
       "    }\n",
       "\n",
       "    .dataframe tbody tr th {\n",
       "        vertical-align: top;\n",
       "    }\n",
       "\n",
       "    .dataframe thead th {\n",
       "        text-align: right;\n",
       "    }\n",
       "</style>\n",
       "<table border=\"1\" class=\"dataframe\">\n",
       "  <thead>\n",
       "    <tr style=\"text-align: right;\">\n",
       "      <th></th>\n",
       "      <th>Number of Unique Items</th>\n",
       "      <th>Average Purchase Price</th>\n",
       "      <th>Total Number of Purchases</th>\n",
       "      <th>Total Revenue</th>\n",
       "    </tr>\n",
       "  </thead>\n",
       "  <tbody>\n",
       "    <tr>\n",
       "      <td>0</td>\n",
       "      <td>183</td>\n",
       "      <td>$3.05</td>\n",
       "      <td>780</td>\n",
       "      <td>$2379.77</td>\n",
       "    </tr>\n",
       "  </tbody>\n",
       "</table>\n",
       "</div>"
      ],
      "text/plain": [
       "   Number of Unique Items Average Purchase Price  Total Number of Purchases  \\\n",
       "0                     183                  $3.05                        780   \n",
       "\n",
       "  Total Revenue  \n",
       "0      $2379.77  "
      ]
     },
     "execution_count": 366,
     "metadata": {},
     "output_type": "execute_result"
    }
   ],
   "source": [
    "frame_df = pd.DataFrame({\n",
    "    \"Number of Unique Items\": [(number_of_unique_items)],\n",
    "    \"Average Purchase Price\": [(average_purch)],\n",
    "    \"Total Number of Purchases\":[(total_number_purchases)],\n",
    "    \"Total Revenue\":[(total_rev)]\n",
    "    \n",
    "    \n",
    "})\n",
    "frame_df"
   ]
  },
  {
   "cell_type": "code",
   "execution_count": 367,
   "metadata": {},
   "outputs": [],
   "source": [
    "#Gender Demographics\n",
    "\n",
    "only_men = df1.loc[df[\"Gender\"] == \"Male\", :]\n",
    "# print(len(only_men))\n",
    "percentage_only_men=np.round(len(only_men)/len(df)*100,decimals=2)\n",
    "# print(percentage_only_men)\n",
    "\n",
    "only_women=df1.loc[df[\"Gender\"]== \"Female\", :]\n",
    "# print(len(only_women))\n",
    "percentage_only_women=np.round(len(only_women)/len(df)*100,decimals=2)\n",
    "# print(percentage_only_women)\n",
    "\n",
    "other=df1.loc[df[\"Gender\"]== \"Other / Non-Disclosed\", :]\n",
    "# print(len(other))\n",
    "percentage_other_non_disclosed=np.round(len(other)/len(df)*100,decimals=2)\n",
    "# print(percentage_other_non_disclosed)      \n",
    "\n"
   ]
  },
  {
   "cell_type": "code",
   "execution_count": 369,
   "metadata": {},
   "outputs": [],
   "source": [
    "gender_df = pd.DataFrame(\n",
    "    {\"Gender\": [\"Male\", \"Female\",\"Other / Non-Disclosed\"],\n",
    "     \"Total Count\": [len(only_men), len(only_women),len(other)],\n",
    "     \"Percentage\": [str(percentage_only_men)+\"%\",str(percentage_only_women)+\"%\",str(percentage_other_non_disclosed)+\"%\"]}\n",
    ")\n",
    "\n",
    "      "
   ]
  },
  {
   "cell_type": "code",
   "execution_count": 370,
   "metadata": {},
   "outputs": [
    {
     "data": {
      "text/html": [
       "<div>\n",
       "<style scoped>\n",
       "    .dataframe tbody tr th:only-of-type {\n",
       "        vertical-align: middle;\n",
       "    }\n",
       "\n",
       "    .dataframe tbody tr th {\n",
       "        vertical-align: top;\n",
       "    }\n",
       "\n",
       "    .dataframe thead th {\n",
       "        text-align: right;\n",
       "    }\n",
       "</style>\n",
       "<table border=\"1\" class=\"dataframe\">\n",
       "  <thead>\n",
       "    <tr style=\"text-align: right;\">\n",
       "      <th></th>\n",
       "      <th>Total Count</th>\n",
       "      <th>Percentage</th>\n",
       "    </tr>\n",
       "    <tr>\n",
       "      <th>Gender</th>\n",
       "      <th></th>\n",
       "      <th></th>\n",
       "    </tr>\n",
       "  </thead>\n",
       "  <tbody>\n",
       "    <tr>\n",
       "      <td>Male</td>\n",
       "      <td>484</td>\n",
       "      <td>62.05%</td>\n",
       "    </tr>\n",
       "    <tr>\n",
       "      <td>Female</td>\n",
       "      <td>81</td>\n",
       "      <td>10.38%</td>\n",
       "    </tr>\n",
       "    <tr>\n",
       "      <td>Other / Non-Disclosed</td>\n",
       "      <td>11</td>\n",
       "      <td>1.41%</td>\n",
       "    </tr>\n",
       "  </tbody>\n",
       "</table>\n",
       "</div>"
      ],
      "text/plain": [
       "                       Total Count Percentage\n",
       "Gender                                       \n",
       "Male                           484     62.05%\n",
       "Female                          81     10.38%\n",
       "Other / Non-Disclosed           11      1.41%"
      ]
     },
     "execution_count": 370,
     "metadata": {},
     "output_type": "execute_result"
    }
   ],
   "source": [
    "reindexed_df = gender_df.set_index(\"Gender\")\n",
    "reindexed_df.head()"
   ]
  },
  {
   "cell_type": "code",
   "execution_count": 371,
   "metadata": {},
   "outputs": [],
   "source": [
    "#Purchasing Analysis\n",
    "purchase_count_men = df.loc[df[\"Gender\"] == \"Male\", :]\n",
    "# print(len(purchase_count_men))\n"
   ]
  },
  {
   "cell_type": "code",
   "execution_count": 372,
   "metadata": {},
   "outputs": [],
   "source": [
    "purchase_count_women = df.loc[df[\"Gender\"] == \"Female\", :]\n",
    "# print(len(purchase_count_women))"
   ]
  },
  {
   "cell_type": "code",
   "execution_count": 373,
   "metadata": {},
   "outputs": [],
   "source": [
    "purchase_count_other=df.loc[df[\"Gender\"]==\"Other / Non-Disclosed\", :]\n",
    "# print(len(purchase_count_other))"
   ]
  },
  {
   "cell_type": "code",
   "execution_count": 374,
   "metadata": {},
   "outputs": [
    {
     "name": "stderr",
     "output_type": "stream",
     "text": [
      "C:\\Users\\samantha.ettinger\\Anaconda3\\lib\\site-packages\\ipykernel_launcher.py:2: FutureWarning: `item` has been deprecated and will be removed in a future version\n",
      "  \n",
      "C:\\Users\\samantha.ettinger\\Anaconda3\\lib\\site-packages\\ipykernel_launcher.py:4: FutureWarning: `item` has been deprecated and will be removed in a future version\n",
      "  after removing the cwd from sys.path.\n"
     ]
    }
   ],
   "source": [
    "avg_purchase_price_men = df.loc[df[\"Gender\"] == \"Male\", [\"Price\"]].mean()\n",
    "avg_purchase_price_men=\"$\"+str(np.round(avg_purchase_price_men, decimals=2).item())\n",
    "# print(avg_purchase_price_men)\n",
    "total_purchase_price_men=\"$\"+str(df.loc[df[\"Gender\"] ==\"Male\", [\"Price\"]].sum().item())\n",
    "# print(total_purchase_price_men)"
   ]
  },
  {
   "cell_type": "code",
   "execution_count": 375,
   "metadata": {},
   "outputs": [
    {
     "name": "stderr",
     "output_type": "stream",
     "text": [
      "C:\\Users\\samantha.ettinger\\Anaconda3\\lib\\site-packages\\ipykernel_launcher.py:2: FutureWarning: `item` has been deprecated and will be removed in a future version\n",
      "  \n",
      "C:\\Users\\samantha.ettinger\\Anaconda3\\lib\\site-packages\\ipykernel_launcher.py:4: FutureWarning: `item` has been deprecated and will be removed in a future version\n",
      "  after removing the cwd from sys.path.\n"
     ]
    }
   ],
   "source": [
    "avg_purchase_price_women= df.loc[df[\"Gender\"]==\"Female\", [\"Price\"]].mean()\n",
    "avg_purchase_price_women=\"$\"+str(np.round(avg_purchase_price_women, decimals=2).item())\n",
    "# print(avg_purchase_price_women)\n",
    "total_purchase_price_women=\"$\"+str(df.loc[df[\"Gender\"] ==\"Female\", [\"Price\"]].sum().item())\n",
    "# print(total_purchase_price_women)"
   ]
  },
  {
   "cell_type": "code",
   "execution_count": 376,
   "metadata": {},
   "outputs": [
    {
     "name": "stderr",
     "output_type": "stream",
     "text": [
      "C:\\Users\\samantha.ettinger\\Anaconda3\\lib\\site-packages\\ipykernel_launcher.py:2: FutureWarning: `item` has been deprecated and will be removed in a future version\n",
      "  \n",
      "C:\\Users\\samantha.ettinger\\Anaconda3\\lib\\site-packages\\ipykernel_launcher.py:3: FutureWarning: `item` has been deprecated and will be removed in a future version\n",
      "  This is separate from the ipykernel package so we can avoid doing imports until\n"
     ]
    }
   ],
   "source": [
    "avg_purchase_price_other=df.loc[df[\"Gender\"]==\"Other / Non-Disclosed\", [\"Price\"]].mean()\n",
    "avg_purchase_price_other=\"$\"+str(np.round(avg_purchase_price_other, decimals=2).item())\n",
    "total_purchase_price_other=\"$\"+str(df.loc[df[\"Gender\"] ==\"Other / Non-Disclosed\", [\"Price\"]].sum().item())\n",
    "\n",
    "# print(avg_purchase_price_other)\n",
    "# print(total_purchase_price_other)"
   ]
  },
  {
   "cell_type": "code",
   "execution_count": 379,
   "metadata": {},
   "outputs": [],
   "source": [
    "# df5 = df[\"SN\"].value_counts()\n",
    "# df5\n",
    "\n",
    "# grouped_df = df.groupby([\"SN\"])\n",
    "# # print(grouped_df)\n",
    "\n",
    "# (grouped_df).count().head(20)\n",
    "#  df.groupby('Gender', as_index=False).mean()\n",
    "# len(grouped_df)"
   ]
  },
  {
   "cell_type": "code",
   "execution_count": 380,
   "metadata": {},
   "outputs": [
    {
     "data": {
      "text/html": [
       "<div>\n",
       "<style scoped>\n",
       "    .dataframe tbody tr th:only-of-type {\n",
       "        vertical-align: middle;\n",
       "    }\n",
       "\n",
       "    .dataframe tbody tr th {\n",
       "        vertical-align: top;\n",
       "    }\n",
       "\n",
       "    .dataframe thead th {\n",
       "        text-align: right;\n",
       "    }\n",
       "</style>\n",
       "<table border=\"1\" class=\"dataframe\">\n",
       "  <thead>\n",
       "    <tr style=\"text-align: right;\">\n",
       "      <th></th>\n",
       "      <th>Purchase Count</th>\n",
       "      <th>Average Purchase Price</th>\n",
       "      <th>Total Purchase Value</th>\n",
       "      <th>Avg Total Purchase per Person</th>\n",
       "    </tr>\n",
       "    <tr>\n",
       "      <th>Gender</th>\n",
       "      <th></th>\n",
       "      <th></th>\n",
       "      <th></th>\n",
       "      <th></th>\n",
       "    </tr>\n",
       "  </thead>\n",
       "  <tbody>\n",
       "    <tr>\n",
       "      <td>Female</td>\n",
       "      <td>113</td>\n",
       "      <td>$3.20</td>\n",
       "      <td>$361.94</td>\n",
       "      <td>$4.47</td>\n",
       "    </tr>\n",
       "    <tr>\n",
       "      <td>Male</td>\n",
       "      <td>652</td>\n",
       "      <td>$3.02</td>\n",
       "      <td>$1967.64</td>\n",
       "      <td>$4.07</td>\n",
       "    </tr>\n",
       "    <tr>\n",
       "      <td>Other / Non-Disclosed</td>\n",
       "      <td>15</td>\n",
       "      <td>$3.35</td>\n",
       "      <td>$50.19</td>\n",
       "      <td>$4.56</td>\n",
       "    </tr>\n",
       "  </tbody>\n",
       "</table>\n",
       "</div>"
      ],
      "text/plain": [
       "                       Purchase Count Average Purchase Price  \\\n",
       "Gender                                                         \n",
       "Female                            113                  $3.20   \n",
       "Male                              652                  $3.02   \n",
       "Other / Non-Disclosed              15                  $3.35   \n",
       "\n",
       "                      Total Purchase Value Avg Total Purchase per Person  \n",
       "Gender                                                                    \n",
       "Female                             $361.94                         $4.47  \n",
       "Male                              $1967.64                         $4.07  \n",
       "Other / Non-Disclosed               $50.19                         $4.56  "
      ]
     },
     "execution_count": 380,
     "metadata": {},
     "output_type": "execute_result"
    }
   ],
   "source": [
    "total_count=df.groupby([\"Gender\"]).count()[\"Price\"]\n",
    "total_count\n",
    "\n",
    "avg_price_gender=df.groupby([\"Gender\"]).mean()[\"Price\"]\n",
    "# avg_price_gender=\"$\"+str(avg_price_gender)\n",
    "\n",
    "total_price_gender=df.groupby([\"Gender\"]).sum()[\"Price\"]\n",
    "# total_price_gender=\"$\"+str(total_price_gender)\n",
    "\n",
    "price_per_person=total_price_gender/reindexed_df[\"Total Count\"]\n",
    "price_per_person\n",
    "\n",
    "df_purchase_analysis=pd.DataFrame({\"Purchase Count\":total_count,\"Average Purchase Price\":avg_price_gender,\n",
    "                                   \"Total Purchase Value\":total_price_gender,\"Avg Total Purchase per Person\":price_per_person})\n",
    "\n",
    "df_purchase_analysis[\"Average Purchase Price\"] = df_purchase_analysis[\"Average Purchase Price\"].map(\"${:.2f}\".format)\n",
    "df_purchase_analysis[\"Total Purchase Value\"] = df_purchase_analysis[\"Total Purchase Value\"].map(\"${:.2f}\".format)\n",
    "df_purchase_analysis[\"Avg Total Purchase per Person\"] = df_purchase_analysis[\"Avg Total Purchase per Person\"].map(\"${:.2f}\".format)\n",
    "df_purchase_analysis\n",
    "\n"
   ]
  },
  {
   "cell_type": "code",
   "execution_count": 381,
   "metadata": {},
   "outputs": [],
   "source": [
    "\n",
    "\n",
    "age_demo= [0,9,14,19,24,29,34,39,100]\n",
    "# print(age_demo)\n",
    "names=[\"<10\",\"10-14\",\"15-19\",\"20-24\",\"25-29\",\"30-34\",\"35-39\",\"40+\"]\n"
   ]
  },
  {
   "cell_type": "code",
   "execution_count": 382,
   "metadata": {},
   "outputs": [],
   "source": [
    "df1[\"Age Summary\"] = pd.cut(df1[\"Age\"],age_demo,labels=names)\n"
   ]
  },
  {
   "cell_type": "code",
   "execution_count": 383,
   "metadata": {},
   "outputs": [],
   "source": [
    "age_counts =df1.groupby([\"Age Summary\"])\n",
    "age_counts.count()\n",
    "age_counts_df=age_counts[[\"SN\"]]\n",
    "ak=age_counts_df.count()\n",
    "# print(ak)\n",
    "ak3=ak[\"SN\"]/len(df1)*100\n",
    "# print(ak3)\n",
    "\n",
    "# perc=age_counts_df/len(df1)"
   ]
  },
  {
   "cell_type": "code",
   "execution_count": 384,
   "metadata": {},
   "outputs": [],
   "source": [
    "merge_table = pd.merge(ak, ak3, on=\"Age Summary\")\n"
   ]
  },
  {
   "cell_type": "code",
   "execution_count": 385,
   "metadata": {},
   "outputs": [
    {
     "data": {
      "text/html": [
       "<div>\n",
       "<style scoped>\n",
       "    .dataframe tbody tr th:only-of-type {\n",
       "        vertical-align: middle;\n",
       "    }\n",
       "\n",
       "    .dataframe tbody tr th {\n",
       "        vertical-align: top;\n",
       "    }\n",
       "\n",
       "    .dataframe thead th {\n",
       "        text-align: right;\n",
       "    }\n",
       "</style>\n",
       "<table border=\"1\" class=\"dataframe\">\n",
       "  <thead>\n",
       "    <tr style=\"text-align: right;\">\n",
       "      <th></th>\n",
       "      <th>Total Count</th>\n",
       "      <th>Percentage of Players</th>\n",
       "    </tr>\n",
       "    <tr>\n",
       "      <th>Age Summary</th>\n",
       "      <th></th>\n",
       "      <th></th>\n",
       "    </tr>\n",
       "  </thead>\n",
       "  <tbody>\n",
       "    <tr>\n",
       "      <td>&lt;10</td>\n",
       "      <td>17</td>\n",
       "      <td>2.95%</td>\n",
       "    </tr>\n",
       "    <tr>\n",
       "      <td>10-14</td>\n",
       "      <td>22</td>\n",
       "      <td>3.82%</td>\n",
       "    </tr>\n",
       "    <tr>\n",
       "      <td>15-19</td>\n",
       "      <td>107</td>\n",
       "      <td>18.58%</td>\n",
       "    </tr>\n",
       "    <tr>\n",
       "      <td>20-24</td>\n",
       "      <td>258</td>\n",
       "      <td>44.79%</td>\n",
       "    </tr>\n",
       "    <tr>\n",
       "      <td>25-29</td>\n",
       "      <td>77</td>\n",
       "      <td>13.37%</td>\n",
       "    </tr>\n",
       "    <tr>\n",
       "      <td>30-34</td>\n",
       "      <td>52</td>\n",
       "      <td>9.03%</td>\n",
       "    </tr>\n",
       "    <tr>\n",
       "      <td>35-39</td>\n",
       "      <td>31</td>\n",
       "      <td>5.38%</td>\n",
       "    </tr>\n",
       "    <tr>\n",
       "      <td>40+</td>\n",
       "      <td>12</td>\n",
       "      <td>2.08%</td>\n",
       "    </tr>\n",
       "  </tbody>\n",
       "</table>\n",
       "</div>"
      ],
      "text/plain": [
       "             Total Count Percentage of Players\n",
       "Age Summary                                   \n",
       "<10                   17                 2.95%\n",
       "10-14                 22                 3.82%\n",
       "15-19                107                18.58%\n",
       "20-24                258                44.79%\n",
       "25-29                 77                13.37%\n",
       "30-34                 52                 9.03%\n",
       "35-39                 31                 5.38%\n",
       "40+                   12                 2.08%"
      ]
     },
     "execution_count": 385,
     "metadata": {},
     "output_type": "execute_result"
    }
   ],
   "source": [
    "renamed_merge=merge_table.rename(columns={\"SN_x\":\"Total Count\", \"SN_y\":\"Percentage of Players\"})\n",
    "renamed_merge\n",
    "renamed_merge[\"Percentage of Players\"] = renamed_merge[\"Percentage of Players\"].map(\"{0:.2f}%\".format)\n",
    "renamed_merge\n"
   ]
  },
  {
   "cell_type": "code",
   "execution_count": 386,
   "metadata": {},
   "outputs": [],
   "source": [
    "merge_table_3 = pd.merge(df, df1, on=\"SN\")\n"
   ]
  },
  {
   "cell_type": "code",
   "execution_count": 388,
   "metadata": {},
   "outputs": [],
   "source": [
    "purchase_by_group_mean=merge_table_3.groupby([\"Age Summary\"]).mean()[\"Price\"]\n",
    "# print(purchase_by_group_mean)"
   ]
  },
  {
   "cell_type": "code",
   "execution_count": 389,
   "metadata": {},
   "outputs": [],
   "source": [
    "purchase_by_group_sum=merge_table_3.groupby([\"Age Summary\"]).sum()[\"Price\"]\n",
    "# purchase_by_group_sum"
   ]
  },
  {
   "cell_type": "code",
   "execution_count": 390,
   "metadata": {},
   "outputs": [],
   "source": [
    "purchase_by_group_count=merge_table_3.groupby([\"Age Summary\"]).count()[\"Price\"]\n",
    "# purchase_by_group_count"
   ]
  },
  {
   "cell_type": "code",
   "execution_count": 391,
   "metadata": {},
   "outputs": [],
   "source": [
    "price_per_age=np.round(purchase_by_group_sum/renamed_merge[\"Total Count\"],decimals=2)\n",
    "# price_per_age\n"
   ]
  },
  {
   "cell_type": "code",
   "execution_count": 392,
   "metadata": {},
   "outputs": [
    {
     "data": {
      "text/html": [
       "<div>\n",
       "<style scoped>\n",
       "    .dataframe tbody tr th:only-of-type {\n",
       "        vertical-align: middle;\n",
       "    }\n",
       "\n",
       "    .dataframe tbody tr th {\n",
       "        vertical-align: top;\n",
       "    }\n",
       "\n",
       "    .dataframe thead th {\n",
       "        text-align: right;\n",
       "    }\n",
       "</style>\n",
       "<table border=\"1\" class=\"dataframe\">\n",
       "  <thead>\n",
       "    <tr style=\"text-align: right;\">\n",
       "      <th></th>\n",
       "      <th>Purchase Count</th>\n",
       "      <th>Average Purchase Price</th>\n",
       "      <th>Total Purchase Value</th>\n",
       "      <th>Avg Total Purchase per Person</th>\n",
       "    </tr>\n",
       "    <tr>\n",
       "      <th>Age Summary</th>\n",
       "      <th></th>\n",
       "      <th></th>\n",
       "      <th></th>\n",
       "      <th></th>\n",
       "    </tr>\n",
       "  </thead>\n",
       "  <tbody>\n",
       "    <tr>\n",
       "      <td>&lt;10</td>\n",
       "      <td>23</td>\n",
       "      <td>$3.35</td>\n",
       "      <td>$77.13</td>\n",
       "      <td>$4.54</td>\n",
       "    </tr>\n",
       "    <tr>\n",
       "      <td>10-14</td>\n",
       "      <td>28</td>\n",
       "      <td>$2.96</td>\n",
       "      <td>$82.78</td>\n",
       "      <td>$3.76</td>\n",
       "    </tr>\n",
       "    <tr>\n",
       "      <td>15-19</td>\n",
       "      <td>136</td>\n",
       "      <td>$3.04</td>\n",
       "      <td>$412.89</td>\n",
       "      <td>$3.86</td>\n",
       "    </tr>\n",
       "    <tr>\n",
       "      <td>20-24</td>\n",
       "      <td>365</td>\n",
       "      <td>$3.05</td>\n",
       "      <td>$1114.06</td>\n",
       "      <td>$4.32</td>\n",
       "    </tr>\n",
       "    <tr>\n",
       "      <td>25-29</td>\n",
       "      <td>101</td>\n",
       "      <td>$2.90</td>\n",
       "      <td>$293.00</td>\n",
       "      <td>$3.81</td>\n",
       "    </tr>\n",
       "    <tr>\n",
       "      <td>30-34</td>\n",
       "      <td>73</td>\n",
       "      <td>$2.93</td>\n",
       "      <td>$214.00</td>\n",
       "      <td>$4.12</td>\n",
       "    </tr>\n",
       "    <tr>\n",
       "      <td>35-39</td>\n",
       "      <td>41</td>\n",
       "      <td>$3.60</td>\n",
       "      <td>$147.67</td>\n",
       "      <td>$4.76</td>\n",
       "    </tr>\n",
       "    <tr>\n",
       "      <td>40+</td>\n",
       "      <td>13</td>\n",
       "      <td>$2.94</td>\n",
       "      <td>$38.24</td>\n",
       "      <td>$3.19</td>\n",
       "    </tr>\n",
       "  </tbody>\n",
       "</table>\n",
       "</div>"
      ],
      "text/plain": [
       "             Purchase Count Average Purchase Price Total Purchase Value  \\\n",
       "Age Summary                                                               \n",
       "<10                      23                  $3.35               $77.13   \n",
       "10-14                    28                  $2.96               $82.78   \n",
       "15-19                   136                  $3.04              $412.89   \n",
       "20-24                   365                  $3.05             $1114.06   \n",
       "25-29                   101                  $2.90              $293.00   \n",
       "30-34                    73                  $2.93              $214.00   \n",
       "35-39                    41                  $3.60              $147.67   \n",
       "40+                      13                  $2.94               $38.24   \n",
       "\n",
       "            Avg Total Purchase per Person  \n",
       "Age Summary                                \n",
       "<10                                 $4.54  \n",
       "10-14                               $3.76  \n",
       "15-19                               $3.86  \n",
       "20-24                               $4.32  \n",
       "25-29                               $3.81  \n",
       "30-34                               $4.12  \n",
       "35-39                               $4.76  \n",
       "40+                                 $3.19  "
      ]
     },
     "execution_count": 392,
     "metadata": {},
     "output_type": "execute_result"
    }
   ],
   "source": [
    "df_age_analysis=pd.DataFrame({\"Purchase Count\":purchase_by_group_count,\"Average Purchase Price\":purchase_by_group_mean,\n",
    "                                   \"Total Purchase Value\":purchase_by_group_sum,\"Avg Total Purchase per Person\":price_per_age})\n",
    "\n",
    "df_age_analysis[\"Average Purchase Price\"] = df_age_analysis[\"Average Purchase Price\"].map(\"${:.2f}\".format)\n",
    "df_age_analysis[\"Total Purchase Value\"]=df_age_analysis[\"Total Purchase Value\"].map(\"${:.2f}\".format)\n",
    "df_age_analysis[\"Avg Total Purchase per Person\"]=df_age_analysis[\"Avg Total Purchase per Person\"].map(\"${:.2f}\".format)\n",
    "df_age_analysis"
   ]
  },
  {
   "cell_type": "code",
   "execution_count": 393,
   "metadata": {},
   "outputs": [],
   "source": [
    "purchase_by_SN_count=df.groupby([\"SN\"]).count()[\"Price\"]\n",
    "# purchase_by_SN_count"
   ]
  },
  {
   "cell_type": "code",
   "execution_count": 394,
   "metadata": {},
   "outputs": [],
   "source": [
    "purchase_by_SN_mean=df.groupby([\"SN\"]).mean()[\"Price\"]\n",
    "# purchase_by_SN_mean"
   ]
  },
  {
   "cell_type": "code",
   "execution_count": 395,
   "metadata": {},
   "outputs": [],
   "source": [
    "purchase_by_SN_sum=df.groupby([\"SN\"]).sum()[\"Price\"]\n",
    "# purchase_by_SN_sum"
   ]
  },
  {
   "cell_type": "code",
   "execution_count": 396,
   "metadata": {},
   "outputs": [],
   "source": [
    "df_SN_analysis=pd.DataFrame({\"Purchase Count\":purchase_by_SN_count,\"Average Purchase Price\":purchase_by_SN_mean,\n",
    "                                   \"Total Purchase Value\":purchase_by_SN_sum})\n",
    "# df_SN_analysis"
   ]
  },
  {
   "cell_type": "code",
   "execution_count": 398,
   "metadata": {},
   "outputs": [
    {
     "data": {
      "text/html": [
       "<div>\n",
       "<style scoped>\n",
       "    .dataframe tbody tr th:only-of-type {\n",
       "        vertical-align: middle;\n",
       "    }\n",
       "\n",
       "    .dataframe tbody tr th {\n",
       "        vertical-align: top;\n",
       "    }\n",
       "\n",
       "    .dataframe thead th {\n",
       "        text-align: right;\n",
       "    }\n",
       "</style>\n",
       "<table border=\"1\" class=\"dataframe\">\n",
       "  <thead>\n",
       "    <tr style=\"text-align: right;\">\n",
       "      <th></th>\n",
       "      <th>Purchase Count</th>\n",
       "      <th>Average Purchase Price</th>\n",
       "      <th>Total Purchase Value</th>\n",
       "    </tr>\n",
       "    <tr>\n",
       "      <th>SN</th>\n",
       "      <th></th>\n",
       "      <th></th>\n",
       "      <th></th>\n",
       "    </tr>\n",
       "  </thead>\n",
       "  <tbody>\n",
       "    <tr>\n",
       "      <td>Lisosia93</td>\n",
       "      <td>5</td>\n",
       "      <td>$3.79</td>\n",
       "      <td>$18.96</td>\n",
       "    </tr>\n",
       "    <tr>\n",
       "      <td>Idastidru52</td>\n",
       "      <td>4</td>\n",
       "      <td>$3.86</td>\n",
       "      <td>$15.45</td>\n",
       "    </tr>\n",
       "    <tr>\n",
       "      <td>Chamjask73</td>\n",
       "      <td>3</td>\n",
       "      <td>$4.61</td>\n",
       "      <td>$13.83</td>\n",
       "    </tr>\n",
       "    <tr>\n",
       "      <td>Iral74</td>\n",
       "      <td>4</td>\n",
       "      <td>$3.40</td>\n",
       "      <td>$13.62</td>\n",
       "    </tr>\n",
       "    <tr>\n",
       "      <td>Iskadarya95</td>\n",
       "      <td>3</td>\n",
       "      <td>$4.37</td>\n",
       "      <td>$13.10</td>\n",
       "    </tr>\n",
       "  </tbody>\n",
       "</table>\n",
       "</div>"
      ],
      "text/plain": [
       "             Purchase Count Average Purchase Price Total Purchase Value\n",
       "SN                                                                     \n",
       "Lisosia93                 5                  $3.79               $18.96\n",
       "Idastidru52               4                  $3.86               $15.45\n",
       "Chamjask73                3                  $4.61               $13.83\n",
       "Iral74                    4                  $3.40               $13.62\n",
       "Iskadarya95               3                  $4.37               $13.10"
      ]
     },
     "execution_count": 398,
     "metadata": {},
     "output_type": "execute_result"
    }
   ],
   "source": [
    "SN_df =df_SN_analysis.sort_values(\"Total Purchase Value\", ascending=False)\n",
    "SN_df[\"Average Purchase Price\"] = SN_df[\"Average Purchase Price\"].map(\"${:.2f}\".format)\n",
    "SN_df[\"Total Purchase Value\"]= SN_df[\"Total Purchase Value\"].map(\"${:.2f}\".format)\n",
    "SN_df.head()"
   ]
  },
  {
   "cell_type": "code",
   "execution_count": 401,
   "metadata": {},
   "outputs": [],
   "source": [
    "purchase_by_item_sum=df.groupby([\"Item ID\",\"Item Name\"]).sum()[\"Price\"]\n",
    "# purchase_by_item_sum"
   ]
  },
  {
   "cell_type": "code",
   "execution_count": 402,
   "metadata": {},
   "outputs": [],
   "source": [
    "purchase_by_item_count=df.groupby([\"Item ID\",\"Item Name\"]).count()[\"Price\"]\n",
    "# purchase_by_item_count\n",
    "# merge_table = pd.merge(purchase_by_item_count,df, on=\"Item ID\")\n",
    "# merge_table\n",
    "# purchase_by_item_count=merge_table[\"\"]"
   ]
  },
  {
   "cell_type": "code",
   "execution_count": 403,
   "metadata": {},
   "outputs": [],
   "source": [
    "purchase_by_item_pr=df.groupby([\"Item ID\",\"Item Name\"])\n",
    "va=purchase_by_item_pr.first()\n",
    "dl=va[\"Price\"]\n",
    "# print(dl)\n"
   ]
  },
  {
   "cell_type": "code",
   "execution_count": 404,
   "metadata": {},
   "outputs": [],
   "source": [
    "total_value_per_item=purchase_by_item_sum*purchase_by_item_count\n",
    "# total_value_per_item"
   ]
  },
  {
   "cell_type": "code",
   "execution_count": 405,
   "metadata": {},
   "outputs": [],
   "source": [
    "df_item_analysis=pd.DataFrame({\"Purchase Count\":purchase_by_item_count,\n",
    "                               \"Item Price\":dl,\n",
    "                              \"Total Purchase Value\":purchase_by_item_sum\n",
    "                              })\n",
    "# df_item_analysis\n",
    "# df_item_analysis_merge=pd.merge(df_item_analysis, df, on=\"Item ID\",how=\"right\")\n",
    "# df_item_analysis"
   ]
  },
  {
   "cell_type": "code",
   "execution_count": 406,
   "metadata": {},
   "outputs": [],
   "source": [
    "df_item_analysis=df_item_analysis.sort_values(\"Purchase Count\", ascending=False)\n",
    "# df_item_analysis.head()"
   ]
  },
  {
   "cell_type": "code",
   "execution_count": 408,
   "metadata": {},
   "outputs": [],
   "source": [
    "df_item_analysis[\"Item Price\"]=df_item_analysis[\"Item Price\"].astype(float)\n",
    "df_item_analysis[\"Total Purchase Value\"]=df_item_analysis[\"Total Purchase Value\"].astype(float)\n",
    "# df_item_analysis\n",
    "# df['DataFrame Column'] = df['DataFrame Column'].astype(float)\n"
   ]
  },
  {
   "cell_type": "code",
   "execution_count": null,
   "metadata": {},
   "outputs": [],
   "source": []
  },
  {
   "cell_type": "code",
   "execution_count": 409,
   "metadata": {},
   "outputs": [],
   "source": [
    "df_item_analysis=df_item_analysis.sort_values(\"Purchase Count\", ascending=False)\n",
    "# df_item_analysis.head()\n"
   ]
  },
  {
   "cell_type": "code",
   "execution_count": 410,
   "metadata": {},
   "outputs": [],
   "source": [
    "df_item_analysis_2=df_item_analysis.sort_values(\"Total Purchase Value\", ascending=False)\n",
    "# df_item_analysis_2.head()"
   ]
  },
  {
   "cell_type": "code",
   "execution_count": 411,
   "metadata": {},
   "outputs": [
    {
     "data": {
      "text/html": [
       "<div>\n",
       "<style scoped>\n",
       "    .dataframe tbody tr th:only-of-type {\n",
       "        vertical-align: middle;\n",
       "    }\n",
       "\n",
       "    .dataframe tbody tr th {\n",
       "        vertical-align: top;\n",
       "    }\n",
       "\n",
       "    .dataframe thead th {\n",
       "        text-align: right;\n",
       "    }\n",
       "</style>\n",
       "<table border=\"1\" class=\"dataframe\">\n",
       "  <thead>\n",
       "    <tr style=\"text-align: right;\">\n",
       "      <th></th>\n",
       "      <th></th>\n",
       "      <th>Purchase Count</th>\n",
       "      <th>Item Price</th>\n",
       "      <th>Total Purchase Value</th>\n",
       "    </tr>\n",
       "    <tr>\n",
       "      <th>Item ID</th>\n",
       "      <th>Item Name</th>\n",
       "      <th></th>\n",
       "      <th></th>\n",
       "      <th></th>\n",
       "    </tr>\n",
       "  </thead>\n",
       "  <tbody>\n",
       "    <tr>\n",
       "      <td>178</td>\n",
       "      <td>Oathbreaker, Last Hope of the Breaking Storm</td>\n",
       "      <td>12</td>\n",
       "      <td>$4.23</td>\n",
       "      <td>$50.76</td>\n",
       "    </tr>\n",
       "    <tr>\n",
       "      <td>108</td>\n",
       "      <td>Extraction, Quickblade Of Trembling Hands</td>\n",
       "      <td>9</td>\n",
       "      <td>$3.53</td>\n",
       "      <td>$31.77</td>\n",
       "    </tr>\n",
       "    <tr>\n",
       "      <td>82</td>\n",
       "      <td>Nirvana</td>\n",
       "      <td>9</td>\n",
       "      <td>$4.90</td>\n",
       "      <td>$44.10</td>\n",
       "    </tr>\n",
       "    <tr>\n",
       "      <td>145</td>\n",
       "      <td>Fiery Glass Crusader</td>\n",
       "      <td>9</td>\n",
       "      <td>$4.58</td>\n",
       "      <td>$41.22</td>\n",
       "    </tr>\n",
       "    <tr>\n",
       "      <td>60</td>\n",
       "      <td>Wolf</td>\n",
       "      <td>8</td>\n",
       "      <td>$3.54</td>\n",
       "      <td>$28.32</td>\n",
       "    </tr>\n",
       "  </tbody>\n",
       "</table>\n",
       "</div>"
      ],
      "text/plain": [
       "                                                      Purchase Count  \\\n",
       "Item ID Item Name                                                      \n",
       "178     Oathbreaker, Last Hope of the Breaking Storm              12   \n",
       "108     Extraction, Quickblade Of Trembling Hands                  9   \n",
       "82      Nirvana                                                    9   \n",
       "145     Fiery Glass Crusader                                       9   \n",
       "60      Wolf                                                       8   \n",
       "\n",
       "                                                     Item Price  \\\n",
       "Item ID Item Name                                                 \n",
       "178     Oathbreaker, Last Hope of the Breaking Storm      $4.23   \n",
       "108     Extraction, Quickblade Of Trembling Hands         $3.53   \n",
       "82      Nirvana                                           $4.90   \n",
       "145     Fiery Glass Crusader                              $4.58   \n",
       "60      Wolf                                              $3.54   \n",
       "\n",
       "                                                     Total Purchase Value  \n",
       "Item ID Item Name                                                          \n",
       "178     Oathbreaker, Last Hope of the Breaking Storm               $50.76  \n",
       "108     Extraction, Quickblade Of Trembling Hands                  $31.77  \n",
       "82      Nirvana                                                    $44.10  \n",
       "145     Fiery Glass Crusader                                       $41.22  \n",
       "60      Wolf                                                       $28.32  "
      ]
     },
     "execution_count": 411,
     "metadata": {},
     "output_type": "execute_result"
    }
   ],
   "source": [
    "df_item_analysis[\"Item Price\"] = df_item_analysis[\"Item Price\"].map(\"${:.2f}\".format)\n",
    "df_item_analysis[\"Total Purchase Value\"] = df_item_analysis[\"Total Purchase Value\"].map(\"${:.2f}\".format)\n",
    "df_item_analysis.head()\n"
   ]
  },
  {
   "cell_type": "code",
   "execution_count": 412,
   "metadata": {},
   "outputs": [
    {
     "data": {
      "text/html": [
       "<div>\n",
       "<style scoped>\n",
       "    .dataframe tbody tr th:only-of-type {\n",
       "        vertical-align: middle;\n",
       "    }\n",
       "\n",
       "    .dataframe tbody tr th {\n",
       "        vertical-align: top;\n",
       "    }\n",
       "\n",
       "    .dataframe thead th {\n",
       "        text-align: right;\n",
       "    }\n",
       "</style>\n",
       "<table border=\"1\" class=\"dataframe\">\n",
       "  <thead>\n",
       "    <tr style=\"text-align: right;\">\n",
       "      <th></th>\n",
       "      <th></th>\n",
       "      <th>Purchase Count</th>\n",
       "      <th>Item Price</th>\n",
       "      <th>Total Purchase Value</th>\n",
       "    </tr>\n",
       "    <tr>\n",
       "      <th>Item ID</th>\n",
       "      <th>Item Name</th>\n",
       "      <th></th>\n",
       "      <th></th>\n",
       "      <th></th>\n",
       "    </tr>\n",
       "  </thead>\n",
       "  <tbody>\n",
       "    <tr>\n",
       "      <td>178</td>\n",
       "      <td>Oathbreaker, Last Hope of the Breaking Storm</td>\n",
       "      <td>12</td>\n",
       "      <td>$4.23</td>\n",
       "      <td>$50.76</td>\n",
       "    </tr>\n",
       "    <tr>\n",
       "      <td>82</td>\n",
       "      <td>Nirvana</td>\n",
       "      <td>9</td>\n",
       "      <td>$4.90</td>\n",
       "      <td>$44.10</td>\n",
       "    </tr>\n",
       "    <tr>\n",
       "      <td>145</td>\n",
       "      <td>Fiery Glass Crusader</td>\n",
       "      <td>9</td>\n",
       "      <td>$4.58</td>\n",
       "      <td>$41.22</td>\n",
       "    </tr>\n",
       "    <tr>\n",
       "      <td>92</td>\n",
       "      <td>Final Critic</td>\n",
       "      <td>8</td>\n",
       "      <td>$4.88</td>\n",
       "      <td>$39.04</td>\n",
       "    </tr>\n",
       "    <tr>\n",
       "      <td>103</td>\n",
       "      <td>Singed Scalpel</td>\n",
       "      <td>8</td>\n",
       "      <td>$4.35</td>\n",
       "      <td>$34.80</td>\n",
       "    </tr>\n",
       "  </tbody>\n",
       "</table>\n",
       "</div>"
      ],
      "text/plain": [
       "                                                      Purchase Count  \\\n",
       "Item ID Item Name                                                      \n",
       "178     Oathbreaker, Last Hope of the Breaking Storm              12   \n",
       "82      Nirvana                                                    9   \n",
       "145     Fiery Glass Crusader                                       9   \n",
       "92      Final Critic                                               8   \n",
       "103     Singed Scalpel                                             8   \n",
       "\n",
       "                                                     Item Price  \\\n",
       "Item ID Item Name                                                 \n",
       "178     Oathbreaker, Last Hope of the Breaking Storm      $4.23   \n",
       "82      Nirvana                                           $4.90   \n",
       "145     Fiery Glass Crusader                              $4.58   \n",
       "92      Final Critic                                      $4.88   \n",
       "103     Singed Scalpel                                    $4.35   \n",
       "\n",
       "                                                     Total Purchase Value  \n",
       "Item ID Item Name                                                          \n",
       "178     Oathbreaker, Last Hope of the Breaking Storm               $50.76  \n",
       "82      Nirvana                                                    $44.10  \n",
       "145     Fiery Glass Crusader                                       $41.22  \n",
       "92      Final Critic                                               $39.04  \n",
       "103     Singed Scalpel                                             $34.80  "
      ]
     },
     "execution_count": 412,
     "metadata": {},
     "output_type": "execute_result"
    }
   ],
   "source": [
    "df_item_analysis_2[\"Item Price\"] = df_item_analysis_2[\"Item Price\"].map(\"${:.2f}\".format)\n",
    "df_item_analysis_2[\"Total Purchase Value\"] = df_item_analysis_2[\"Total Purchase Value\"].map(\"${:.2f}\".format)\n",
    "df_item_analysis_2.head()"
   ]
  },
  {
   "cell_type": "code",
   "execution_count": null,
   "metadata": {},
   "outputs": [],
   "source": []
  }
 ],
 "metadata": {
  "kernelspec": {
   "display_name": "Python 3",
   "language": "python",
   "name": "python3"
  },
  "language_info": {
   "codemirror_mode": {
    "name": "ipython",
    "version": 3
   },
   "file_extension": ".py",
   "mimetype": "text/x-python",
   "name": "python",
   "nbconvert_exporter": "python",
   "pygments_lexer": "ipython3",
   "version": "3.7.4"
  }
 },
 "nbformat": 4,
 "nbformat_minor": 4
}
